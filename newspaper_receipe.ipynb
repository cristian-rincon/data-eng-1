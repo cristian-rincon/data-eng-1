{
 "cells": [
  {
   "cell_type": "code",
   "execution_count": null,
   "metadata": {},
   "outputs": [],
   "source": [
    "import argparse\n",
    "import logging\n",
    "logging.basicConfig(level=logging.INFO)\n",
    "from urllib.parse import urlparse\n",
    "\n",
    "import pandas as pd\n",
    "\n",
    "logger = logging.getLogger(__name__)\n",
    "\n",
    "def main(filename):\n",
    "    logger.info('Starting cleaning process...')\n",
    "    \n",
    "    df = _read_data(filename)\n",
    "    newspaper_uid = _extract_newspaper_uid(filename)\n",
    "    df = _add_newspaper_uid_column(df, newspaper_uid)\n",
    "    df = _extract_host(df)\n",
    "    \n",
    "    \n",
    "def _read_data(filename):\n",
    "    logger.info(f'Reading file {filename}...')\n",
    "    \n",
    "    return pd.read_csv(filename)\n",
    "\n",
    "def _extract_newspaper_uid(filename):\n",
    "    logger.info('Extracting newspaper uid...')\n",
    "    newspaper_uid = filename.split('_')[0]\n",
    "    \n",
    "    logger.info(f'Newspaper uid detected: {newspaper_uid}...')\n",
    "    \n",
    "    return newspaper_uid\n",
    "\n",
    "def _add_newspaper_uid_column(df, newspaper_uid):\n",
    "    logger.info(f'Filling newspaper_uid column with {newspaper_uid}')\n",
    "    df['newspaper_uid'] = newspaper_uid\n",
    "    \n",
    "    return df\n",
    "\n",
    "def _extract_host(df):\n",
    "    logger.info('Extracting host from urls')\n",
    "    df['host'] = df['url'].apply(lambda url: urlparse(url).netloc)\n",
    "    \n",
    "    return df\n",
    "\n",
    "if __name__ = '__main__':\n",
    "    parser = argparse.ArgumentParser()\n",
    "    parser.add_argument('filename',\n",
    "                       help='Path to dirty data',\n",
    "                       type=str)\n",
    "    arg = parser.parse_args()\n",
    "    main(args.filename)"
   ]
  }
 ],
 "metadata": {
  "kernelspec": {
   "display_name": "Python 3",
   "language": "python",
   "name": "python3"
  },
  "language_info": {
   "codemirror_mode": {
    "name": "ipython",
    "version": 3
   },
   "file_extension": ".py",
   "mimetype": "text/x-python",
   "name": "python",
   "nbconvert_exporter": "python",
   "pygments_lexer": "ipython3",
   "version": "3.7.6"
  }
 },
 "nbformat": 4,
 "nbformat_minor": 4
}
