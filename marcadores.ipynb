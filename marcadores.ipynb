{
 "cells": [
  {
   "cell_type": "markdown",
   "metadata": {},
   "source": [
    "# Getting the page"
   ]
  },
  {
   "cell_type": "code",
   "execution_count": 79,
   "metadata": {},
   "outputs": [],
   "source": [
    "from selenium import webdriver\n",
    "import pandas as pd\n",
    "from pandas import ExcelWriter\n",
    "\n",
    "from openpyxl.workbook import Workbook\n",
    "\n",
    "pd.set_option('display.max_rows', 10, 'display.max_columns',\n",
    "              None, 'display.width', None)\n",
    "\n",
    "browser = webdriver.Firefox()\n",
    "\n",
    "browser.get(\n",
    "    'https://www.mismarcadores.com/futbol/chile/primera-division/resultados/')\n"
   ]
  },
  {
   "cell_type": "markdown",
   "metadata": {},
   "source": [
    "## Selecting information"
   ]
  },
  {
   "cell_type": "code",
   "execution_count": 81,
   "metadata": {},
   "outputs": [],
   "source": [
    "aux_ids = browser.find_elements_by_css_selector(\n",
    "    '.event__match.event__match--static.event__match--oneLine')\n",
    "partidos = []\n",
    "for aux in aux_ids:\n",
    "    partidos.append([aux.find_elements_by_css_selector('.event__participant.event__participant')[0].text,\n",
    "                     aux.find_element_by_css_selector(\n",
    "                         '.event__scores.fontBold').text.replace('\\n', ''),\n",
    "                     aux.find_elements_by_css_selector(\n",
    "                         '.event__participant.event__participant')[1].text,\n",
    "                     aux.get_attribute('id')])\n"
   ]
  },
  {
   "cell_type": "markdown",
   "metadata": {},
   "source": [
    "## Renaming and ordering data"
   ]
  },
  {
   "cell_type": "code",
   "execution_count": 173,
   "metadata": {},
   "outputs": [],
   "source": [
    "df = pd.DataFrame(partidos)\n"
   ]
  },
  {
   "cell_type": "code",
   "execution_count": 174,
   "metadata": {},
   "outputs": [
    {
     "data": {
      "text/html": [
       "<div>\n",
       "<style scoped>\n",
       "    .dataframe tbody tr th:only-of-type {\n",
       "        vertical-align: middle;\n",
       "    }\n",
       "\n",
       "    .dataframe tbody tr th {\n",
       "        vertical-align: top;\n",
       "    }\n",
       "\n",
       "    .dataframe thead th {\n",
       "        text-align: right;\n",
       "    }\n",
       "</style>\n",
       "<table border=\"1\" class=\"dataframe\">\n",
       "  <thead>\n",
       "    <tr style=\"text-align: right;\">\n",
       "      <th></th>\n",
       "      <th>Casa</th>\n",
       "      <th>R 90 min</th>\n",
       "      <th>Visitante</th>\n",
       "      <th>uid</th>\n",
       "    </tr>\n",
       "  </thead>\n",
       "  <tbody>\n",
       "    <tr>\n",
       "      <th>0</th>\n",
       "      <td>Deportes Iquique</td>\n",
       "      <td>1 - 0</td>\n",
       "      <td>O'Higgins</td>\n",
       "      <td>g_1_WdnnUuIa</td>\n",
       "    </tr>\n",
       "    <tr>\n",
       "      <th>1</th>\n",
       "      <td>Antofagasta</td>\n",
       "      <td>0 - 0</td>\n",
       "      <td>Curicó Unido</td>\n",
       "      <td>g_1_MouaRw2I</td>\n",
       "    </tr>\n",
       "    <tr>\n",
       "      <th>2</th>\n",
       "      <td>La Serena</td>\n",
       "      <td>1 - 2</td>\n",
       "      <td>Colo Colo</td>\n",
       "      <td>g_1_h6mrVL2g</td>\n",
       "    </tr>\n",
       "    <tr>\n",
       "      <th>3</th>\n",
       "      <td>U. De Concepción</td>\n",
       "      <td>2 - 2</td>\n",
       "      <td>Cobresal</td>\n",
       "      <td>g_1_vNkfSJnC</td>\n",
       "    </tr>\n",
       "    <tr>\n",
       "      <th>4</th>\n",
       "      <td>U. De Chile</td>\n",
       "      <td>0 - 0</td>\n",
       "      <td>Everton</td>\n",
       "      <td>g_1_AsbwW1mm</td>\n",
       "    </tr>\n",
       "  </tbody>\n",
       "</table>\n",
       "</div>"
      ],
      "text/plain": [
       "               Casa R 90 min     Visitante           uid\n",
       "0  Deportes Iquique    1 - 0     O'Higgins  g_1_WdnnUuIa\n",
       "1       Antofagasta    0 - 0  Curicó Unido  g_1_MouaRw2I\n",
       "2         La Serena    1 - 2     Colo Colo  g_1_h6mrVL2g\n",
       "3  U. De Concepción    2 - 2      Cobresal  g_1_vNkfSJnC\n",
       "4       U. De Chile    0 - 0       Everton  g_1_AsbwW1mm"
      ]
     },
     "execution_count": 174,
     "metadata": {},
     "output_type": "execute_result"
    }
   ],
   "source": [
    "df.rename(columns={0: 'Casa', 1: 'R 90 min', 2: 'Visitante', 3: 'uid', 4: 'rc1', 5: 'rc2', 6: 'rc3', 7: 'rc4', 8: 'rc5',\n",
    "                   9: '', 10: 'rv1', 11: 'rv2', 12: 'rv3', 13: 'rv4', 14: 'rv5',\n",
    "                   15: '', 16: 'lc1', 17: 'lc2', 18: 'lc3', 19: 'lc4', 20: 'lc5',\n",
    "                   21: '', 22: 'lv1', 23: 'lv2', 24: 'lv3', 25: 'lv4', 26: 'lv5',\n",
    "                   }, inplace=True)\n",
    "df[:5] \n"
   ]
  },
  {
   "cell_type": "markdown",
   "metadata": {},
   "source": [
    "## Cleaning uid column"
   ]
  },
  {
   "cell_type": "code",
   "execution_count": 175,
   "metadata": {},
   "outputs": [
    {
     "data": {
      "text/html": [
       "<div>\n",
       "<style scoped>\n",
       "    .dataframe tbody tr th:only-of-type {\n",
       "        vertical-align: middle;\n",
       "    }\n",
       "\n",
       "    .dataframe tbody tr th {\n",
       "        vertical-align: top;\n",
       "    }\n",
       "\n",
       "    .dataframe thead th {\n",
       "        text-align: right;\n",
       "    }\n",
       "</style>\n",
       "<table border=\"1\" class=\"dataframe\">\n",
       "  <thead>\n",
       "    <tr style=\"text-align: right;\">\n",
       "      <th></th>\n",
       "      <th>Casa</th>\n",
       "      <th>R 90 min</th>\n",
       "      <th>Visitante</th>\n",
       "      <th>uid</th>\n",
       "    </tr>\n",
       "  </thead>\n",
       "  <tbody>\n",
       "    <tr>\n",
       "      <th>0</th>\n",
       "      <td>Deportes Iquique</td>\n",
       "      <td>1 - 0</td>\n",
       "      <td>O'Higgins</td>\n",
       "      <td>WdnnUuIa</td>\n",
       "    </tr>\n",
       "    <tr>\n",
       "      <th>1</th>\n",
       "      <td>Antofagasta</td>\n",
       "      <td>0 - 0</td>\n",
       "      <td>Curicó Unido</td>\n",
       "      <td>MouaRw2I</td>\n",
       "    </tr>\n",
       "    <tr>\n",
       "      <th>2</th>\n",
       "      <td>La Serena</td>\n",
       "      <td>1 - 2</td>\n",
       "      <td>Colo Colo</td>\n",
       "      <td>h6mrVL2g</td>\n",
       "    </tr>\n",
       "    <tr>\n",
       "      <th>3</th>\n",
       "      <td>U. De Concepción</td>\n",
       "      <td>2 - 2</td>\n",
       "      <td>Cobresal</td>\n",
       "      <td>vNkfSJnC</td>\n",
       "    </tr>\n",
       "    <tr>\n",
       "      <th>4</th>\n",
       "      <td>U. De Chile</td>\n",
       "      <td>0 - 0</td>\n",
       "      <td>Everton</td>\n",
       "      <td>AsbwW1mm</td>\n",
       "    </tr>\n",
       "  </tbody>\n",
       "</table>\n",
       "</div>"
      ],
      "text/plain": [
       "               Casa R 90 min     Visitante       uid\n",
       "0  Deportes Iquique    1 - 0     O'Higgins  WdnnUuIa\n",
       "1       Antofagasta    0 - 0  Curicó Unido  MouaRw2I\n",
       "2         La Serena    1 - 2     Colo Colo  h6mrVL2g\n",
       "3  U. De Concepción    2 - 2      Cobresal  vNkfSJnC\n",
       "4       U. De Chile    0 - 0       Everton  AsbwW1mm"
      ]
     },
     "execution_count": 175,
     "metadata": {},
     "output_type": "execute_result"
    }
   ],
   "source": [
    "df['uid'] = df['uid'].apply(lambda id: id.replace('g_1_','')[:])\n",
    "df[:5]"
   ]
  },
  {
   "cell_type": "markdown",
   "metadata": {},
   "source": [
    "## Custom links"
   ]
  },
  {
   "cell_type": "code",
   "execution_count": 183,
   "metadata": {},
   "outputs": [],
   "source": [
    "url_aux = 'https://www.mismarcadores.com/partido/'\n",
    "df['link'] = url_aux + df['uid'] + '/#h2h;overall'"
   ]
  },
  {
   "cell_type": "markdown",
   "metadata": {},
   "source": [
    "## Export to xlsx file"
   ]
  },
  {
   "cell_type": "code",
   "execution_count": 186,
   "metadata": {},
   "outputs": [],
   "source": [
    "writer = ExcelWriter('marcadores.xlsx')\n",
    "df.to_excel(writer, 'Hoja1')\n",
    "writer.save()"
   ]
  },
  {
   "cell_type": "markdown",
   "metadata": {},
   "source": [
    "## See the results"
   ]
  },
  {
   "cell_type": "code",
   "execution_count": 210,
   "metadata": {
    "scrolled": true
   },
   "outputs": [
    {
     "data": {
      "text/html": [
       "<div>\n",
       "<style scoped>\n",
       "    .dataframe tbody tr th:only-of-type {\n",
       "        vertical-align: middle;\n",
       "    }\n",
       "\n",
       "    .dataframe tbody tr th {\n",
       "        vertical-align: top;\n",
       "    }\n",
       "\n",
       "    .dataframe thead th {\n",
       "        text-align: right;\n",
       "    }\n",
       "</style>\n",
       "<table border=\"1\" class=\"dataframe\">\n",
       "  <thead>\n",
       "    <tr style=\"text-align: right;\">\n",
       "      <th></th>\n",
       "      <th>Unnamed: 0</th>\n",
       "      <th>Casa</th>\n",
       "      <th>R 90 min</th>\n",
       "      <th>Visitante</th>\n",
       "      <th>uid</th>\n",
       "      <th>link</th>\n",
       "    </tr>\n",
       "  </thead>\n",
       "  <tbody>\n",
       "    <tr>\n",
       "      <th>0</th>\n",
       "      <td>0</td>\n",
       "      <td>Deportes Iquique</td>\n",
       "      <td>1 - 0</td>\n",
       "      <td>O'Higgins</td>\n",
       "      <td>WdnnUuIa</td>\n",
       "      <td>https://www.mismarcadores.com/partido/WdnnUuIa...</td>\n",
       "    </tr>\n",
       "    <tr>\n",
       "      <th>1</th>\n",
       "      <td>1</td>\n",
       "      <td>Antofagasta</td>\n",
       "      <td>0 - 0</td>\n",
       "      <td>Curicó Unido</td>\n",
       "      <td>MouaRw2I</td>\n",
       "      <td>https://www.mismarcadores.com/partido/MouaRw2I...</td>\n",
       "    </tr>\n",
       "    <tr>\n",
       "      <th>2</th>\n",
       "      <td>2</td>\n",
       "      <td>La Serena</td>\n",
       "      <td>1 - 2</td>\n",
       "      <td>Colo Colo</td>\n",
       "      <td>h6mrVL2g</td>\n",
       "      <td>https://www.mismarcadores.com/partido/h6mrVL2g...</td>\n",
       "    </tr>\n",
       "    <tr>\n",
       "      <th>3</th>\n",
       "      <td>3</td>\n",
       "      <td>U. De Concepción</td>\n",
       "      <td>2 - 2</td>\n",
       "      <td>Cobresal</td>\n",
       "      <td>vNkfSJnC</td>\n",
       "      <td>https://www.mismarcadores.com/partido/vNkfSJnC...</td>\n",
       "    </tr>\n",
       "    <tr>\n",
       "      <th>4</th>\n",
       "      <td>4</td>\n",
       "      <td>U. De Chile</td>\n",
       "      <td>0 - 0</td>\n",
       "      <td>Everton</td>\n",
       "      <td>AsbwW1mm</td>\n",
       "      <td>https://www.mismarcadores.com/partido/AsbwW1mm...</td>\n",
       "    </tr>\n",
       "  </tbody>\n",
       "</table>\n",
       "</div>"
      ],
      "text/plain": [
       "   Unnamed: 0              Casa R 90 min     Visitante       uid  \\\n",
       "0           0  Deportes Iquique    1 - 0     O'Higgins  WdnnUuIa   \n",
       "1           1       Antofagasta    0 - 0  Curicó Unido  MouaRw2I   \n",
       "2           2         La Serena    1 - 2     Colo Colo  h6mrVL2g   \n",
       "3           3  U. De Concepción    2 - 2      Cobresal  vNkfSJnC   \n",
       "4           4       U. De Chile    0 - 0       Everton  AsbwW1mm   \n",
       "\n",
       "                                                link  \n",
       "0  https://www.mismarcadores.com/partido/WdnnUuIa...  \n",
       "1  https://www.mismarcadores.com/partido/MouaRw2I...  \n",
       "2  https://www.mismarcadores.com/partido/h6mrVL2g...  \n",
       "3  https://www.mismarcadores.com/partido/vNkfSJnC...  \n",
       "4  https://www.mismarcadores.com/partido/AsbwW1mm...  "
      ]
     },
     "execution_count": 210,
     "metadata": {},
     "output_type": "execute_result"
    }
   ],
   "source": [
    "clean_data_results = pd.read_excel('marcadores.xlsx')\n",
    "clean_data_results[:5] "
   ]
  },
  {
   "cell_type": "markdown",
   "metadata": {},
   "source": [
    "## Filtering links from the first 5"
   ]
  },
  {
   "cell_type": "code",
   "execution_count": 217,
   "metadata": {},
   "outputs": [
    {
     "name": "stdout",
     "output_type": "stream",
     "text": [
      "https://www.mismarcadores.com/partido/WdnnUuIa/#h2h;overall\n",
      "https://www.mismarcadores.com/partido/MouaRw2I/#h2h;overall\n",
      "https://www.mismarcadores.com/partido/h6mrVL2g/#h2h;overall\n",
      "https://www.mismarcadores.com/partido/vNkfSJnC/#h2h;overall\n",
      "https://www.mismarcadores.com/partido/AsbwW1mm/#h2h;overall\n"
     ]
    }
   ],
   "source": [
    "clean_data_links = clean_data_results['link'][:5]\n",
    "clean_data_links\n",
    "\n",
    "for link in clean_data_links[:5]:\n",
    "    print(link)\n"
   ]
  },
  {
   "cell_type": "code",
   "execution_count": 223,
   "metadata": {},
   "outputs": [
    {
     "data": {
      "text/plain": [
       "'Mon, 09 Mar 2020 21:01:02 GMT'"
      ]
     },
     "execution_count": 223,
     "metadata": {},
     "output_type": "execute_result"
    }
   ],
   "source": [
    "import requests\n",
    "\n",
    "response = requests.get('https://www.mismarcadores.com/partido/WdnnUuIa/#h2h;overall')\n",
    "\n",
    "response.headers['date']\n"
   ]
  },
  {
   "cell_type": "markdown",
   "metadata": {},
   "source": [
    "## Results filter"
   ]
  },
  {
   "cell_type": "code",
   "execution_count": 209,
   "metadata": {},
   "outputs": [
    {
     "data": {
      "text/html": [
       "<div>\n",
       "<style scoped>\n",
       "    .dataframe tbody tr th:only-of-type {\n",
       "        vertical-align: middle;\n",
       "    }\n",
       "\n",
       "    .dataframe tbody tr th {\n",
       "        vertical-align: top;\n",
       "    }\n",
       "\n",
       "    .dataframe thead th {\n",
       "        text-align: right;\n",
       "    }\n",
       "</style>\n",
       "<table border=\"1\" class=\"dataframe\">\n",
       "  <thead>\n",
       "    <tr style=\"text-align: right;\">\n",
       "      <th></th>\n",
       "      <th>Unnamed: 0</th>\n",
       "      <th>Casa</th>\n",
       "      <th>R 90 min</th>\n",
       "      <th>Visitante</th>\n",
       "      <th>uid</th>\n",
       "      <th>link</th>\n",
       "    </tr>\n",
       "  </thead>\n",
       "  <tbody>\n",
       "    <tr>\n",
       "      <th>0</th>\n",
       "      <td>0</td>\n",
       "      <td>Deportes Iquique</td>\n",
       "      <td>1 - 0</td>\n",
       "      <td>O'Higgins</td>\n",
       "      <td>WdnnUuIa</td>\n",
       "      <td>https://www.mismarcadores.com/partido/WdnnUuIa...</td>\n",
       "    </tr>\n",
       "    <tr>\n",
       "      <th>6</th>\n",
       "      <td>6</td>\n",
       "      <td>Curicó Unido</td>\n",
       "      <td>1 - 0</td>\n",
       "      <td>Huachipato</td>\n",
       "      <td>0G2SDKXI</td>\n",
       "      <td>https://www.mismarcadores.com/partido/0G2SDKXI...</td>\n",
       "    </tr>\n",
       "    <tr>\n",
       "      <th>15</th>\n",
       "      <td>15</td>\n",
       "      <td>Curicó Unido</td>\n",
       "      <td>1 - 0</td>\n",
       "      <td>Colo Colo</td>\n",
       "      <td>YsUYXTJs</td>\n",
       "      <td>https://www.mismarcadores.com/partido/YsUYXTJs...</td>\n",
       "    </tr>\n",
       "    <tr>\n",
       "      <th>20</th>\n",
       "      <td>20</td>\n",
       "      <td>Huachipato</td>\n",
       "      <td>1 - 0</td>\n",
       "      <td>Cobresal</td>\n",
       "      <td>G6JwXmZm</td>\n",
       "      <td>https://www.mismarcadores.com/partido/G6JwXmZm...</td>\n",
       "    </tr>\n",
       "    <tr>\n",
       "      <th>31</th>\n",
       "      <td>31</td>\n",
       "      <td>Everton</td>\n",
       "      <td>1 - 0</td>\n",
       "      <td>Coquimbo</td>\n",
       "      <td>xv5zxwLF</td>\n",
       "      <td>https://www.mismarcadores.com/partido/xv5zxwLF...</td>\n",
       "    </tr>\n",
       "    <tr>\n",
       "      <th>36</th>\n",
       "      <td>36</td>\n",
       "      <td>Curicó Unido</td>\n",
       "      <td>1 - 0</td>\n",
       "      <td>Deportes Iquique</td>\n",
       "      <td>E5JuGebd</td>\n",
       "      <td>https://www.mismarcadores.com/partido/E5JuGebd...</td>\n",
       "    </tr>\n",
       "    <tr>\n",
       "      <th>44</th>\n",
       "      <td>44</td>\n",
       "      <td>Palestino</td>\n",
       "      <td>1 - 0</td>\n",
       "      <td>Huachipato</td>\n",
       "      <td>fempRL6c</td>\n",
       "      <td>https://www.mismarcadores.com/partido/fempRL6c...</td>\n",
       "    </tr>\n",
       "    <tr>\n",
       "      <th>47</th>\n",
       "      <td>47</td>\n",
       "      <td>U. La Calera</td>\n",
       "      <td>1 - 0</td>\n",
       "      <td>U. Española</td>\n",
       "      <td>vm5c3IEj</td>\n",
       "      <td>https://www.mismarcadores.com/partido/vm5c3IEj...</td>\n",
       "    </tr>\n",
       "    <tr>\n",
       "      <th>50</th>\n",
       "      <td>50</td>\n",
       "      <td>Curicó Unido</td>\n",
       "      <td>1 - 0</td>\n",
       "      <td>La Serena</td>\n",
       "      <td>U5Ft8trE</td>\n",
       "      <td>https://www.mismarcadores.com/partido/U5Ft8trE...</td>\n",
       "    </tr>\n",
       "  </tbody>\n",
       "</table>\n",
       "</div>"
      ],
      "text/plain": [
       "    Unnamed: 0              Casa R 90 min         Visitante       uid  \\\n",
       "0            0  Deportes Iquique    1 - 0         O'Higgins  WdnnUuIa   \n",
       "6            6      Curicó Unido    1 - 0        Huachipato  0G2SDKXI   \n",
       "15          15      Curicó Unido    1 - 0         Colo Colo  YsUYXTJs   \n",
       "20          20        Huachipato    1 - 0          Cobresal  G6JwXmZm   \n",
       "31          31           Everton    1 - 0          Coquimbo  xv5zxwLF   \n",
       "36          36      Curicó Unido    1 - 0  Deportes Iquique  E5JuGebd   \n",
       "44          44         Palestino    1 - 0        Huachipato  fempRL6c   \n",
       "47          47      U. La Calera    1 - 0       U. Española  vm5c3IEj   \n",
       "50          50      Curicó Unido    1 - 0         La Serena  U5Ft8trE   \n",
       "\n",
       "                                                 link  \n",
       "0   https://www.mismarcadores.com/partido/WdnnUuIa...  \n",
       "6   https://www.mismarcadores.com/partido/0G2SDKXI...  \n",
       "15  https://www.mismarcadores.com/partido/YsUYXTJs...  \n",
       "20  https://www.mismarcadores.com/partido/G6JwXmZm...  \n",
       "31  https://www.mismarcadores.com/partido/xv5zxwLF...  \n",
       "36  https://www.mismarcadores.com/partido/E5JuGebd...  \n",
       "44  https://www.mismarcadores.com/partido/fempRL6c...  \n",
       "47  https://www.mismarcadores.com/partido/vm5c3IEj...  \n",
       "50  https://www.mismarcadores.com/partido/U5Ft8trE...  "
      ]
     },
     "execution_count": 209,
     "metadata": {},
     "output_type": "execute_result"
    }
   ],
   "source": [
    "clean_data_results.loc[clean_data_results['R 90 min'] == '1 - 0']"
   ]
  },
  {
   "cell_type": "code",
   "execution_count": null,
   "metadata": {},
   "outputs": [],
   "source": []
  }
 ],
 "metadata": {
  "kernelspec": {
   "display_name": "Python 3",
   "language": "python",
   "name": "python3"
  },
  "language_info": {
   "codemirror_mode": {
    "name": "ipython",
    "version": 3
   },
   "file_extension": ".py",
   "mimetype": "text/x-python",
   "name": "python",
   "nbconvert_exporter": "python",
   "pygments_lexer": "ipython3",
   "version": "3.7.6"
  }
 },
 "nbformat": 4,
 "nbformat_minor": 4
}
